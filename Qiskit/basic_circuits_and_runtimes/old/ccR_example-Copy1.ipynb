{
 "cells": [
  {
   "cell_type": "code",
   "execution_count": 5,
   "id": "91de622a",
   "metadata": {},
   "outputs": [],
   "source": [
    "# Restricted Boltzmann machine classical\n",
    "# Classical RBM libraries\n",
    "import numpy as np\n",
    "import pandas as pd\n",
    "from math import acos, sin, sqrt\n",
    "from numpy import pi\n",
    "#from scipy.linalg import norm\n",
    "from numpy.linalg import norm\n",
    "import matplotlib.pyplot as plt\n",
    "\n",
    "# Quantum computing RBM libraries\n",
    "import qiskit\n",
    "from qiskit import transpile\n",
    "from qiskit import QuantumCircuit\n",
    "from qiskit_aer import AerSimulator\n",
    "from qiskit.primitives import Sampler\n",
    "from qiskit.visualization import plot_histogram, plot_state_city\n",
    "from qiskit.circuit import QuantumCircuit, ParameterVector\n",
    "from qiskit.circuit.library import RYGate\n",
    "import qiskit.quantum_info as qi\n",
    "from qiskit.quantum_info import Statevector, DensityMatrix"
   ]
  },
  {
   "cell_type": "code",
   "execution_count": 6,
   "id": "7e088164",
   "metadata": {},
   "outputs": [
    {
     "data": {
      "text/plain": [
       "3.141592653589793"
      ]
     },
     "execution_count": 6,
     "metadata": {},
     "output_type": "execute_result"
    }
   ],
   "source": [
    "pi"
   ]
  },
  {
   "cell_type": "code",
   "execution_count": 7,
   "id": "890a1e89",
   "metadata": {},
   "outputs": [
    {
     "name": "stdout",
     "output_type": "stream",
     "text": [
      "Qubit-0 probs: [0.5 0.5]\n",
      "Qubit-1 probs: [0.5 0.5]\n",
      "Qubit-2 probs: [0.75951506 0.24048494]\n",
      "        ┌─────────┐                  ┌───┐                   ┌───┐»\n",
      "   q_0: ┤ Ry(π/2) ├──────────────────┤ X ├─────────■─────────┤ X ├»\n",
      "        ├─────────┤                  └─┬─┘         │         └─┬─┘»\n",
      "   q_1: ┤ Ry(π/2) ├────────■───────────■───────────┼───────────■──»\n",
      "        └─────────┘┌───────┴────────┐     ┌────────┴────────┐     »\n",
      "   q_2: ───────────┤ U(7π/16,0,0,0) ├─────┤ U(-7π/16,0,0,0) ├─────»\n",
      "                   └────────────────┘     └─────────────────┘     »\n",
      "meas: 3/══════════════════════════════════════════════════════════»\n",
      "                                                                  »\n",
      "«                           ░ ┌─┐      \n",
      "«   q_0: ────────■──────────░─┤M├──────\n",
      "«                │          ░ └╥┘┌─┐   \n",
      "«   q_1: ────────┼──────────░──╫─┤M├───\n",
      "«        ┌───────┴────────┐ ░  ║ └╥┘┌─┐\n",
      "«   q_2: ┤ U(7π/16,0,0,0) ├─░──╫──╫─┤M├\n",
      "«        └────────────────┘ ░  ║  ║ └╥┘\n",
      "«meas: 3/══════════════════════╩══╩══╩═\n",
      "«                              0  1  2 \n",
      "{'010': 248, '001': 254, '000': 264, '111': 250, '011': 8}\n"
     ]
    },
    {
     "data": {
      "image/png": "[encoded data removed]",
      "text/plain": [
       "<Figure size 640x480 with 1 Axes>"
      ]
     },
     "execution_count": 7,
     "metadata": {},
     "output_type": "execute_result"
    }
   ],
   "source": [
    "ang1 = 4*pi/8\n",
    "ang2 = 4*pi/8\n",
    "ang3 = 7*pi/8\n",
    "circ = QuantumCircuit(3)\n",
    "circ.ry(ang1,0)\n",
    "circ.ry(ang2,1)\n",
    "\n",
    "ccry = RYGate(ang3).control(2)\n",
    "circ.append(ccry, [0, 1, 2 ])\n",
    "\n",
    "\n",
    "rho = DensityMatrix(circ)\n",
    "# Probabilities for measuring only qubit-i\n",
    "qprobs = np.zeros((3,2))\n",
    "for iq in range(3):\n",
    "    qprobs[iq] = rho.probabilities([iq])\n",
    "    print('Qubit-{} probs: {}'.format(iq, qprobs[iq]))\n",
    "circ.measure_all()\n",
    "\n",
    "simulator = AerSimulator()\n",
    "circ = transpile(circ, simulator)\n",
    "\n",
    "result = simulator.run(circ).result()\n",
    "counts = result.get_counts(circ)\n",
    "print(circ)\n",
    "print(counts)\n",
    "plot_histogram(counts, title='Probability distribution')\n"
   ]
  },
  {
   "cell_type": "code",
   "execution_count": null,
   "id": "f9bccfbc",
   "metadata": {},
   "outputs": [],
   "source": []
  }
 ],
 "metadata": {
  "kernelspec": {
   "display_name": "qiskit-env",
   "language": "python",
   "name": "python3"
  },
  "language_info": {
   "codemirror_mode": {
    "name": "ipython",
    "version": 3
   },
   "file_extension": ".py",
   "mimetype": "text/x-python",
   "name": "python",
   "nbconvert_exporter": "python",
   "pygments_lexer": "ipython3",
   "version": "3.11.11"
  }
 },
 "nbformat": 4,
 "nbformat_minor": 5
}
