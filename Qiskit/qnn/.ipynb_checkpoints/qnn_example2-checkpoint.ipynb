{
 "cells": [
  {
   "cell_type": "code",
   "execution_count": 1,
   "id": "700ede50-80d5-4f42-8eb2-aba805b99be3",
   "metadata": {},
   "outputs": [],
   "source": [
    "from qiskit_algorithms.utils import algorithm_globals\n",
    "\n",
    "algorithm_globals.random_seed = 42"
   ]
  },
  {
   "cell_type": "code",
   "execution_count": 2,
   "id": "3f4c8328-93c1-4da3-8686-77372d4bf1ef",
   "metadata": {},
   "outputs": [
    {
     "name": "stderr",
     "output_type": "stream",
     "text": [
      "E:\\Anaconda\\envs\\venv_qml\\lib\\site-packages\\qiskit\\visualization\\circuit\\matplotlib.py:266: FutureWarning: The default matplotlib drawer scheme will be changed to \"iqp\" in a following release. To silence this warning, specify the current default explicitly as style=\"clifford\", or the new default as style=\"iqp\".\n",
      "  self._style, def_font_ratio = load_style(self._style)\n"
     ]
    },
    {
     "data": {
      "image/png": "[encoded data removed]",
      "text/plain": [
       "<Figure size 352.675x117.056 with 1 Axes>"
      ]
     },
     "execution_count": 2,
     "metadata": {},
     "output_type": "execute_result"
    }
   ],
   "source": [
    "# 2.1 The EstimatorQNN  takes in a parametrized quantum circuit as input\n",
    "# optional QM observable\n",
    "# The EstimatorQNN also accepts lists of observables to construct more complex QNNs.\n",
    "from qiskit.circuit import Parameter\n",
    "from qiskit import QuantumCircuit\n",
    "\n",
    "params1 = [Parameter(\"input1\"), Parameter(\"weight1\")]\n",
    "qc1 = QuantumCircuit(1)\n",
    "qc1.h(0)\n",
    "qc1.ry(params1[0], 0)\n",
    "qc1.rx(params1[1], 0)\n",
    "qc1.draw(\"mpl\")"
   ]
  },
  {
   "cell_type": "code",
   "execution_count": 3,
   "id": "49faf705-43a3-4f5e-95d1-a408aa765fd9",
   "metadata": {},
   "outputs": [],
   "source": [
    "# default observable Z^(X)n\n",
    "# Here we change to Y^(X)n  for n qubits\n",
    "from qiskit.quantum_info import SparsePauliOp\n",
    "\n",
    "observable1 = SparsePauliOp.from_list([(\"Y\" * qc1.num_qubits, 1)])"
   ]
  },
  {
   "cell_type": "code",
   "execution_count": 4,
   "id": "2b29bf04-c49b-4111-a0b3-842b0c57ef3a",
   "metadata": {},
   "outputs": [
    {
     "data": {
      "text/plain": [
       "<qiskit_machine_learning.neural_networks.estimator_qnn.EstimatorQNN at 0x1bef1baf970>"
      ]
     },
     "execution_count": 4,
     "metadata": {},
     "output_type": "execute_result"
    }
   ],
   "source": [
    "# here estimator is default because is local simulation\n",
    "# estimator has to be declared for cloud or Aer\n",
    "from qiskit_machine_learning.neural_networks import EstimatorQNN\n",
    "\n",
    "estimator_qnn = EstimatorQNN(\n",
    "    circuit=qc1, observables=observable1, input_params=[params1[0]], weight_params=[params1[1]]\n",
    ")\n",
    "estimator_qnn\n"
   ]
  },
  {
   "cell_type": "code",
   "execution_count": 5,
   "id": "4bd6d816-5f9e-45f8-b2e1-41bbd7fb87aa",
   "metadata": {},
   "outputs": [
    {
     "name": "stdout",
     "output_type": "stream",
     "text": [
      "input parameters: ['input[0]', 'input[1]']\n",
      "weight parameters: ['weight[0]', 'weight[1]', 'weight[2]', 'weight[3]']\n"
     ]
    },
    {
     "data": {
      "image/png": "[encoded data removed]",
      "text/plain": [
       "<Figure size 538.128x200.667 with 1 Axes>"
      ]
     },
     "execution_count": 5,
     "metadata": {},
     "output_type": "execute_result"
    }
   ],
   "source": [
    "# Sampler Qnn class 2.2\n",
    "# Since it directly consumes samples from measuring qc, thus do not require custom observable\n",
    "# we will have two input parameters and four trainable weights that parametrize a two-local circuit.\n",
    "from qiskit.circuit import ParameterVector\n",
    "\n",
    "inputs2 = ParameterVector(\"input\", 2)\n",
    "weights2 = ParameterVector(\"weight\", 4)\n",
    "print(f\"input parameters: {[str(item) for item in inputs2.params]}\")\n",
    "print(f\"weight parameters: {[str(item) for item in weights2.params]}\")\n",
    "\n",
    "qc2 = QuantumCircuit(2)\n",
    "qc2.ry(inputs2[0], 0)\n",
    "qc2.ry(inputs2[1], 1)\n",
    "qc2.cx(0, 1)\n",
    "qc2.ry(weights2[0], 0)\n",
    "qc2.ry(weights2[1], 1)\n",
    "qc2.cx(0, 1)\n",
    "qc2.ry(weights2[2], 0)\n",
    "qc2.ry(weights2[3], 1)\n",
    "\n",
    "qc2.draw(output=\"mpl\")"
   ]
  },
  {
   "cell_type": "code",
   "execution_count": 6,
   "id": "2f57f094-6cda-4d59-b92b-95a65ec719cf",
   "metadata": {},
   "outputs": [
    {
     "data": {
      "text/plain": [
       "<qiskit_machine_learning.neural_networks.sampler_qnn.SamplerQNN at 0x1bef279e5e0>"
      ]
     },
     "execution_count": 6,
     "metadata": {},
     "output_type": "execute_result"
    }
   ],
   "source": [
    "# we are choosing not to set the Sampler instance to the QNN and relying on the default.\n",
    "from qiskit_machine_learning.neural_networks import SamplerQNN\n",
    "\n",
    "sampler_qnn = SamplerQNN(circuit=qc2, input_params=inputs2, weight_params=weights2)\n",
    "sampler_qnn"
   ]
  },
  {
   "cell_type": "code",
   "execution_count": 7,
   "id": "8190dc77-8db2-4da5-b060-f0a6595ff222",
   "metadata": {},
   "outputs": [
    {
     "name": "stdout",
     "output_type": "stream",
     "text": [
      "Number of input features for EstimatorQNN: 1 \n",
      "Input: [0.77395605]\n",
      "Number of trainable weights for EstimatorQNN: 1 \n",
      "Weights: [0.43887844]\n"
     ]
    }
   ],
   "source": [
    "# SamplerQNN accepts three more settings: input_gradients, interpret, and output_shape\n",
    "# 3. How to Run a Forward Pass\n",
    "estimator_qnn_input = algorithm_globals.random.random(estimator_qnn.num_inputs)\n",
    "estimator_qnn_weights = algorithm_globals.random.random(estimator_qnn.num_weights)\n",
    "print(\n",
    "    f\"Number of input features for EstimatorQNN: {estimator_qnn.num_inputs} \\nInput: {estimator_qnn_input}\"\n",
    ")\n",
    "print(\n",
    "    f\"Number of trainable weights for EstimatorQNN: {estimator_qnn.num_weights} \\nWeights: {estimator_qnn_weights}\"\n",
    ")\n"
   ]
  },
  {
   "cell_type": "code",
   "execution_count": 8,
   "id": "6a7b03df-d0da-4cc5-8036-961c48e87b61",
   "metadata": {},
   "outputs": [
    {
     "name": "stdout",
     "output_type": "stream",
     "text": [
      "Number of input features for SamplerQNN: 2 \n",
      "Input: [0.85859792 0.69736803]\n",
      "Number of trainable weights for SamplerQNN: 4 \n",
      "Weights: [0.09417735 0.97562235 0.7611397  0.78606431]\n"
     ]
    }
   ],
   "source": [
    "sampler_qnn_input = algorithm_globals.random.random(sampler_qnn.num_inputs)\n",
    "sampler_qnn_weights = algorithm_globals.random.random(sampler_qnn.num_weights)\n",
    "print(\n",
    "    f\"Number of input features for SamplerQNN: {sampler_qnn.num_inputs} \\nInput: {sampler_qnn_input}\"\n",
    ")\n",
    "print(\n",
    "    f\"Number of trainable weights for SamplerQNN: {sampler_qnn.num_weights} \\nWeights: {sampler_qnn_weights}\"\n",
    ")"
   ]
  },
  {
   "cell_type": "code",
   "execution_count": 9,
   "id": "795f08fc-b7d8-43cd-8fb1-ee7c517a2c35",
   "metadata": {},
   "outputs": [
    {
     "name": "stdout",
     "output_type": "stream",
     "text": [
      "Forward pass result for EstimatorQNN: [[0.2970094]]. \n",
      "Shape: (1, 1)\n"
     ]
    }
   ],
   "source": [
    "# Forward pass stage\n",
    "# the expected output shape for the forward pass is (1, num_qubits * num_observables) where 1 in our case is the number of samples\n",
    "estimator_qnn_forward = estimator_qnn.forward(estimator_qnn_input, estimator_qnn_weights)\n",
    "\n",
    "print(\n",
    "    f\"Forward pass result for EstimatorQNN: {estimator_qnn_forward}. \\nShape: {estimator_qnn_forward.shape}\"\n",
    ")"
   ]
  },
  {
   "cell_type": "code",
   "execution_count": 10,
   "id": "8596f0d7-410b-4170-b8a0-bd06c30a54bc",
   "metadata": {},
   "outputs": [
    {
     "name": "stdout",
     "output_type": "stream",
     "text": [
      "Forward pass result for SamplerQNN: [[0.01826527 0.25735654 0.5267981  0.19758009]].  \n",
      "Shape: (1, 4)\n"
     ]
    }
   ],
   "source": [
    "# The expected output shape for the forward pass is (1, 2**num_qubits)\n",
    "# With a custom interpret function, the output shape will be (1, output_shape)\n",
    "# for 1 number of samples\n",
    "sampler_qnn_forward = sampler_qnn.forward(sampler_qnn_input, sampler_qnn_weights)\n",
    "\n",
    "print(\n",
    "    f\"Forward pass result for SamplerQNN: {sampler_qnn_forward}.  \\nShape: {sampler_qnn_forward.shape}\"\n",
    ")"
   ]
  },
  {
   "cell_type": "code",
   "execution_count": 11,
   "id": "63eeff6a-de93-46f9-80b7-7624bbb2d8d4",
   "metadata": {},
   "outputs": [
    {
     "name": "stdout",
     "output_type": "stream",
     "text": [
      "Forward pass result for EstimatorQNN: [[0.2970094]\n",
      " [0.2970094]].  \n",
      "Shape: (2, 1)\n"
     ]
    }
   ],
   "source": [
    "# Batched forward pass\n",
    "# the expected output shape for the forward pass is (batch_size, num_qubits * num_observables)\n",
    "estimator_qnn_forward_batched = estimator_qnn.forward(\n",
    "    [estimator_qnn_input, estimator_qnn_input], estimator_qnn_weights\n",
    ")\n",
    "\n",
    "print(\n",
    "    f\"Forward pass result for EstimatorQNN: {estimator_qnn_forward_batched}.  \\nShape: {estimator_qnn_forward_batched.shape}\"\n",
    ")"
   ]
  },
  {
   "cell_type": "code",
   "execution_count": 12,
   "id": "d4bc75ef-d314-4e7a-abef-3863d0897420",
   "metadata": {},
   "outputs": [
    {
     "name": "stdout",
     "output_type": "stream",
     "text": [
      "Forward pass result for SamplerQNN: [[0.01826527 0.25735654 0.5267981  0.19758009]\n",
      " [0.01826527 0.25735654 0.5267981  0.19758009]].  \n",
      "Shape: (2, 4)\n"
     ]
    }
   ],
   "source": [
    "# the expected output shape for the forward pass is (batch_size, 2**num_qubits)\n",
    "# With a custom interpret function, the output shape will be (batch_size, output_shape)\n",
    "sampler_qnn_forward_batched = sampler_qnn.forward(\n",
    "    [sampler_qnn_input, sampler_qnn_input], sampler_qnn_weights\n",
    ")\n",
    "\n",
    "print(\n",
    "    f\"Forward pass result for SamplerQNN: {sampler_qnn_forward_batched}.  \\nShape: {sampler_qnn_forward_batched.shape}\"\n",
    ")"
   ]
  },
  {
   "cell_type": "code",
   "execution_count": 13,
   "id": "044d57d5-eb82-455a-9c36-a75800820f84",
   "metadata": {},
   "outputs": [
    {
     "name": "stdout",
     "output_type": "stream",
     "text": [
      "Input gradients for EstimatorQNN: None.  \n",
      "Shape: None\n",
      "Weight gradients for EstimatorQNN: [[[0.63272767]]].  \n",
      "Shape: (1, 1, 1)\n"
     ]
    }
   ],
   "source": [
    "# 4. How to Run a Backward Pass\n",
    "# the backward pass returns a tuple (input_gradients, weight_gradients)\n",
    "# backward pass will only calculate gradients with respect to the weight parameters.\n",
    "# enable gradients with respect to the input parameters ------> qnn = ...QNN(..., input_gradients=True)\n",
    "# input gradients are required for the use of TorchConnector for PyTorch integration.\n",
    "### Estimator\n",
    "# shape (batch_size, num_qubits * num_observables, num_weights):\n",
    "estimator_qnn_input_grad, estimator_qnn_weight_grad = estimator_qnn.backward(\n",
    "    estimator_qnn_input, estimator_qnn_weights\n",
    ")\n",
    "\n",
    "print(\n",
    "    f\"Input gradients for EstimatorQNN: {estimator_qnn_input_grad}.  \\nShape: {estimator_qnn_input_grad}\"\n",
    ")\n",
    "print(\n",
    "    f\"Weight gradients for EstimatorQNN: {estimator_qnn_weight_grad}.  \\nShape: {estimator_qnn_weight_grad.shape}\"\n",
    ")"
   ]
  },
  {
   "cell_type": "code",
   "execution_count": 14,
   "id": "fe3abd0f-3acc-466f-85b9-5660c1fa0853",
   "metadata": {},
   "outputs": [
    {
     "name": "stdout",
     "output_type": "stream",
     "text": [
      "Input gradients for SamplerQNN: None.  \n",
      "Shape: None\n",
      "Weight gradients for SamplerQNN: [[[ 0.00606238 -0.1124595  -0.06856156 -0.09809236]\n",
      "  [ 0.21167414 -0.09069775  0.06856156 -0.22549618]\n",
      "  [-0.48846674  0.32499215 -0.32262178  0.09809236]\n",
      "  [ 0.27073021 -0.12183491  0.32262178  0.22549618]]].  \n",
      "Shape: (1, 4, 4)\n"
     ]
    }
   ],
   "source": [
    "# the expected output shape for the forward pass is (batch_size, 2**num_qubits, num_weights)\n",
    "# With a custom interpret function, the output shape will be (batch_size, output_shape, num_weights)\n",
    "\n",
    "sampler_qnn_input_grad, sampler_qnn_weight_grad = sampler_qnn.backward(\n",
    "    sampler_qnn_input, sampler_qnn_weights\n",
    ")\n",
    "\n",
    "print(\n",
    "    f\"Input gradients for SamplerQNN: {sampler_qnn_input_grad}.  \\nShape: {sampler_qnn_input_grad}\"\n",
    ")\n",
    "print(\n",
    "    f\"Weight gradients for SamplerQNN: {sampler_qnn_weight_grad}.  \\nShape: {sampler_qnn_weight_grad.shape}\"\n",
    ")"
   ]
  },
  {
   "cell_type": "code",
   "execution_count": 15,
   "id": "660db7af-3fda-40a9-9dc3-f7a6190274a1",
   "metadata": {},
   "outputs": [],
   "source": [
    "# Enable gradients\n",
    "estimator_qnn.input_gradients = True\n",
    "sampler_qnn.input_gradients = True"
   ]
  },
  {
   "cell_type": "code",
   "execution_count": 16,
   "id": "265b5c9b-2377-431b-92b0-66f0b7accbd2",
   "metadata": {},
   "outputs": [
    {
     "name": "stdout",
     "output_type": "stream",
     "text": [
      "Input gradients for EstimatorQNN: [[[0.3038852]]].  \n",
      "Shape: (1, 1, 1)\n",
      "Weight gradients for EstimatorQNN: [[[0.63272767]]].  \n",
      "Shape: (1, 1, 1)\n"
     ]
    }
   ],
   "source": [
    "# the expected output shape for the input gradients is (batch_size, num_qubits * num_observables,\n",
    "estimator_qnn_input_grad, estimator_qnn_weight_grad = estimator_qnn.backward(\n",
    "    estimator_qnn_input, estimator_qnn_weights\n",
    ")\n",
    "\n",
    "print(\n",
    "    f\"Input gradients for EstimatorQNN: {estimator_qnn_input_grad}.  \\nShape: {estimator_qnn_input_grad.shape}\"\n",
    ")\n",
    "print(\n",
    "    f\"Weight gradients for EstimatorQNN: {estimator_qnn_weight_grad}.  \\nShape: {estimator_qnn_weight_grad.shape}\"\n",
    ")"
   ]
  },
  {
   "cell_type": "code",
   "execution_count": 17,
   "id": "c913cdcb-8273-414b-83b0-2e81939f0557",
   "metadata": {},
   "outputs": [
    {
     "name": "stdout",
     "output_type": "stream",
     "text": [
      "Input gradients for SamplerQNN: [[[-0.05844702 -0.10621091]\n",
      "  [ 0.38798796 -0.19544083]\n",
      "  [-0.34561132  0.09459601]\n",
      "  [ 0.01607038  0.20705573]]].  \n",
      "Shape: (1, 4, 2)\n",
      "Weight gradients for SamplerQNN: [[[ 0.00606238 -0.1124595  -0.06856156 -0.09809236]\n",
      "  [ 0.21167414 -0.09069775  0.06856156 -0.22549618]\n",
      "  [-0.48846674  0.32499215 -0.32262178  0.09809236]\n",
      "  [ 0.27073021 -0.12183491  0.32262178  0.22549618]]].  \n",
      "Shape: (1, 4, 4)\n"
     ]
    }
   ],
   "source": [
    "# the expected output shape for the input gradients is (batch_size, 2**num_qubits, num_inputs)\n",
    "# With a custom interpret function, the output shape will be (batch_size, output_shape, num_inputs)\n",
    "sampler_qnn_input_grad, sampler_qnn_weight_grad = sampler_qnn.backward(\n",
    "    sampler_qnn_input, sampler_qnn_weights\n",
    ")\n",
    "\n",
    "print(\n",
    "    f\"Input gradients for SamplerQNN: {sampler_qnn_input_grad}.  \\nShape: {sampler_qnn_input_grad.shape}\"\n",
    ")\n",
    "print(\n",
    "    f\"Weight gradients for SamplerQNN: {sampler_qnn_weight_grad}.  \\nShape: {sampler_qnn_weight_grad.shape}\"\n",
    ")\n"
   ]
  },
  {
   "cell_type": "code",
   "execution_count": 19,
   "id": "9c0dee38-e482-43dd-8cdc-7cafbfd8be32",
   "metadata": {},
   "outputs": [
    {
     "name": "stdout",
     "output_type": "stream",
     "text": [
      "Forward output for EstimatorQNN1: (1, 1)\n",
      "Forward output for EstimatorQNN2: (1, 2)\n",
      "Backward output for EstimatorQNN1: (1, 1, 1)\n",
      "Backward output for EstimatorQNN2: (1, 2, 1)\n"
     ]
    }
   ],
   "source": [
    "# pass lists of observables for more complex QNN architectures. \n",
    "observable2 = SparsePauliOp.from_list([(\"Z\" * qc1.num_qubits, 1)])\n",
    "\n",
    "estimator_qnn2 = EstimatorQNN(\n",
    "    circuit=qc1,\n",
    "    observables=[observable1, observable2],\n",
    "    input_params=[params1[0]],\n",
    "    weight_params=[params1[1]],\n",
    ")\n",
    "\n",
    "estimator_qnn_forward2 = estimator_qnn2.forward(estimator_qnn_input, estimator_qnn_weights)\n",
    "estimator_qnn_input_grad2, estimator_qnn_weight_grad2 = estimator_qnn2.backward(\n",
    "    estimator_qnn_input, estimator_qnn_weights\n",
    ")\n",
    "\n",
    "print(f\"Forward output for EstimatorQNN1: {estimator_qnn_forward.shape}\")\n",
    "print(f\"Forward output for EstimatorQNN2: {estimator_qnn_forward2.shape}\")\n",
    "print(f\"Backward output for EstimatorQNN1: {estimator_qnn_weight_grad.shape}\")\n",
    "print(f\"Backward output for EstimatorQNN2: {estimator_qnn_weight_grad2.shape}\")"
   ]
  },
  {
   "cell_type": "code",
   "execution_count": 21,
   "id": "8a26cf0f-1ee7-4c44-ae20-c50c7fb4a9be",
   "metadata": {},
   "outputs": [
    {
     "name": "stdout",
     "output_type": "stream",
     "text": [
      "Forward output for SamplerQNN1: (1, 4)\n",
      "Forward output for SamplerQNN2: (1, 2)\n",
      "Backward output for SamplerQNN1: (1, 4, 4)\n",
      "Backward output for SamplerQNN2: (1, 2, 4)\n"
     ]
    }
   ],
   "source": [
    "# Sampler \n",
    "# One common interpret method for SamplerQNN is the parity function\n",
    "# allows it to perform binary classification. \n",
    "#  output_shape is fixed to 2. Therefore, the expected forward and weight gradient shapes are (batch_size, 2) and (batch_size, 2, num_weights),\n",
    "parity = lambda x: \"{:b}\".format(x).count(\"1\") % 2\n",
    "output_shape = 2  # parity = 0, 1\n",
    "\n",
    "sampler_qnn2 = SamplerQNN(\n",
    "    circuit=qc2,\n",
    "    input_params=inputs2,\n",
    "    weight_params=weights2,\n",
    "    interpret=parity,\n",
    "    output_shape=output_shape,\n",
    ")\n",
    "\n",
    "sampler_qnn_forward2 = sampler_qnn2.forward(sampler_qnn_input, sampler_qnn_weights)\n",
    "sampler_qnn_input_grad2, sampler_qnn_weight_grad2 = sampler_qnn2.backward(\n",
    "    sampler_qnn_input, sampler_qnn_weights) \n",
    "\n",
    "print(f\"Forward output for SamplerQNN1: {sampler_qnn_forward.shape}\")\n",
    "print(f\"Forward output for SamplerQNN2: {sampler_qnn_forward2.shape}\")\n",
    "print(f\"Backward output for SamplerQNN1: {sampler_qnn_weight_grad.shape}\")\n",
    "print(f\"Backward output for SamplerQNN2: {sampler_qnn_weight_grad2.shape}\")"
   ]
  },
  {
   "cell_type": "code",
   "execution_count": null,
   "id": "22ec9f97-71f1-4771-9b31-da0dc713253c",
   "metadata": {},
   "outputs": [],
   "source": []
  }
 ],
 "metadata": {
  "kernelspec": {
   "display_name": "Python 3 (ipykernel)",
   "language": "python",
   "name": "python3"
  },
  "language_info": {
   "codemirror_mode": {
    "name": "ipython",
    "version": 3
   },
   "file_extension": ".py",
   "mimetype": "text/x-python",
   "name": "python",
   "nbconvert_exporter": "python",
   "pygments_lexer": "ipython3",
   "version": "3.9.13"
  }
 },
 "nbformat": 4,
 "nbformat_minor": 5
}
