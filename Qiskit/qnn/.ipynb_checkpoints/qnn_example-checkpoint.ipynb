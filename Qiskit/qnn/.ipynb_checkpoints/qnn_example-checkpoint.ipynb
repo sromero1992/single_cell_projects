{
 "cells": [
  {
   "cell_type": "code",
   "execution_count": 4,
   "id": "604bd9e3-7eb0-4fbc-a712-95a4044f549e",
   "metadata": {},
   "outputs": [],
   "source": [
    "# pip install qiskit sklearn qiskit-machine-learning qiskit-machine-learning[torch] qiskit-machine-learning[sparse] qiskit_algorithms\n",
    "# QNN qiskit\n",
    "from qiskit_algorithms.utils import algorithm_globals\n",
    "algorithm_globals.random_seed = 123456\n",
    "\n"
   ]
  },
  {
   "cell_type": "code",
   "execution_count": 7,
   "id": "4b371865-d348-4bc9-825f-f0384ee3338a",
   "metadata": {},
   "outputs": [],
   "source": [
    "# Creating dataset\n",
    "from sklearn.datasets import make_blobs\n",
    "\n",
    "#Generate isotropic Gaussian blobs for clustering. https://scikit-learn.org/stable/modules/generated/sklearn.datasets.make_blobs.html\n",
    "features, labels = make_blobs(\n",
    "    n_samples=20,\n",
    "    centers=2,\n",
    "    center_box=(-1, 1),\n",
    "    cluster_std=0.1,\n",
    "    random_state=algorithm_globals.random_seed,\n",
    ")"
   ]
  },
  {
   "cell_type": "code",
   "execution_count": 12,
   "id": "fcd549a0-d397-42ce-8757-93b1ad61fc73",
   "metadata": {},
   "outputs": [],
   "source": [
    "from qiskit_algorithms.state_fidelities import ComputeUncompute\n",
    "from qiskit.primitives import Sampler\n",
    "\n",
    "# Fidelity is optional, and quantum kernel will create it automatically, \n",
    "# here is explicit by passing a sampler (reference implementation and where that's going to be executed)\n",
    "fidelity = ComputeUncompute(sampler=Sampler())"
   ]
  },
  {
   "cell_type": "code",
   "execution_count": 21,
   "id": "b8ab519b-300c-4366-9ae1-fa39221d0685",
   "metadata": {},
   "outputs": [
    {
     "data": {
      "text/plain": [
       "0.95"
      ]
     },
     "execution_count": 21,
     "metadata": {},
     "output_type": "execute_result"
    }
   ],
   "source": [
    "from qiskit.circuit.library import ZZFeatureMap\n",
    "from qiskit_machine_learning.kernels import FidelityQuantumKernel\n",
    "\n",
    "feature_map = ZZFeatureMap(2)\n",
    "new_kernel = FidelityQuantumKernel(feature_map=feature_map, fidelity=fidelity)\n",
    "# Fit an SVM classifier \n",
    "from qiskit_machine_learning.algorithms import QSVC\n",
    "\n",
    "qsvc = QSVC(quantum_kernel=new_kernel)\n",
    "qsvc.fit(features, labels)\n",
    "qsvc.score(features, labels)"
   ]
  },
  {
   "cell_type": "code",
   "execution_count": 25,
   "id": "55653e2f-284e-4917-aa81-5b1fe3dbbe2c",
   "metadata": {},
   "outputs": [
    {
     "data": {
      "text/plain": [
       "0.65"
      ]
     },
     "execution_count": 25,
     "metadata": {},
     "output_type": "execute_result"
    }
   ],
   "source": [
    "###############################\n",
    "######## NEW quantum neural network ----- SamplerQNN\n",
    "######## Variational quantum classifier (VQC) \n",
    "############################\n",
    "# Re-using data and constructing feature map and ansatz and combine them\n",
    "from qiskit import QuantumCircuit\n",
    "from qiskit.circuit.library import RealAmplitudes\n",
    "\n",
    "num_inputs = 2\n",
    "feature_map = ZZFeatureMap(num_inputs)\n",
    "ansatz = RealAmplitudes(num_inputs, reps=1)\n",
    "\n",
    "circuit = QuantumCircuit(num_inputs)\n",
    "circuit.compose(feature_map, inplace=True)\n",
    "circuit.compose(ansatz, inplace=True)\n",
    "\n",
    "# Interpreting function. Here uses parity function that maps bitstrings either to 0 or 1\n",
    "def parity(x):\n",
    "    return \"{:b}\".format(x).count(\"1\") % 2\n",
    "\n",
    "# Fixing the initial point\n",
    "initial_point = algorithm_globals.random.random(ansatz.num_parameters)\n",
    "\n",
    "# Building classifier SamplerQNN\n",
    "from qiskit.primitives import Sampler\n",
    "\n",
    "sampler = Sampler()\n",
    "\n",
    "from qiskit_machine_learning.neural_networks import SamplerQNN\n",
    "\n",
    "sampler_qnn = SamplerQNN(\n",
    "    circuit=circuit,\n",
    "    input_params=feature_map.parameters,\n",
    "    weight_params=ansatz.parameters,\n",
    "    interpret=parity,\n",
    "    output_shape=2,\n",
    "    sampler=sampler,\n",
    ")\n",
    "\n",
    "# Construct classifier and fit (as usually done)\n",
    "from qiskit.algorithms.optimizers import COBYLA\n",
    "from qiskit_machine_learning.algorithms import NeuralNetworkClassifier\n",
    "\n",
    "classifier = NeuralNetworkClassifier(\n",
    "    neural_network=sampler_qnn,\n",
    "    loss=\"cross_entropy\",\n",
    "    one_hot=True,\n",
    "    optimizer=COBYLA(maxiter=40),\n",
    "    initial_point=initial_point,\n",
    ")\n",
    "classifier.fit(features, labels)\n",
    "classifier.score(features, labels)\n",
    "\n"
   ]
  },
  {
   "cell_type": "code",
   "execution_count": 29,
   "id": "a41d6fb4-7d5e-4c6c-8b22-7d9094233a74",
   "metadata": {},
   "outputs": [
    {
     "data": {
      "text/plain": [
       "0.9691029325998906"
      ]
     },
     "execution_count": 29,
     "metadata": {},
     "output_type": "execute_result"
    }
   ],
   "source": [
    "###############################\n",
    "######## NEW quantum neural network ----- EstimatorQNN\n",
    "######## Variational quantum classifier (VQC) \n",
    "############################\n",
    "# Training variational quantum regressor\n",
    "\n",
    "import numpy as np\n",
    "# Simple regression dataset\n",
    "num_samples = 20\n",
    "eps = 0.2\n",
    "lb, ub = -np.pi, np.pi\n",
    "features = (ub - lb) * np.random.rand(num_samples, 1) + lb\n",
    "labels = np.sin(features[:, 0]) + eps * (2 * np.random.rand(num_samples) - 1)\n",
    "\n",
    "from qiskit.circuit import Parameter\n",
    "from qiskit.circuit.library import ZZFeatureMap\n",
    "\n",
    "num_inputs = 1\n",
    "feature_map = QuantumCircuit(1)\n",
    "feature_map.ry(Parameter(\"input\"), 0)\n",
    "\n",
    "ansatz = QuantumCircuit(1)\n",
    "ansatz.ry(Parameter(\"weight\"), 0)\n",
    "\n",
    "circuit = QuantumCircuit(num_inputs)\n",
    "circuit.compose(feature_map, inplace=True)\n",
    "circuit.compose(ansatz, inplace=True)\n",
    "\n",
    "initial_point = algorithm_globals.random.random(ansatz.num_parameters)\n",
    "\n",
    "from qiskit.primitives import Estimator\n",
    "\n",
    "estimator = Estimator()\n",
    "\n",
    "# the network creates an observable as Z^[(X)n], where n is the number of qubit\n",
    "from qiskit_machine_learning.neural_networks import EstimatorQNN\n",
    "\n",
    "estimator_qnn = EstimatorQNN(\n",
    "    circuit=circuit,\n",
    "    input_params=feature_map.parameters,\n",
    "    weight_params=ansatz.parameters,\n",
    "    estimator=estimator,\n",
    ")\n",
    "\n",
    "# Construct variational quantum regressor\n",
    "from qiskit.algorithms.optimizers import L_BFGS_B\n",
    "from qiskit_machine_learning.algorithms import NeuralNetworkRegressor\n",
    "from qiskit_machine_learning.algorithms import VQR\n",
    "\n",
    "regressor = NeuralNetworkRegressor(\n",
    "    neural_network=estimator_qnn,\n",
    "    optimizer=L_BFGS_B(maxiter=5),\n",
    "    initial_point=initial_point,\n",
    ")\n",
    "regressor.fit(features, labels)\n",
    "regressor.score(features, labels)"
   ]
  },
  {
   "cell_type": "code",
   "execution_count": null,
   "id": "23ff2d9d-bde3-4afa-b58f-3ab736d1e8bc",
   "metadata": {},
   "outputs": [],
   "source": []
  }
 ],
 "metadata": {
  "kernelspec": {
   "display_name": "Python 3 (ipykernel)",
   "language": "python",
   "name": "python3"
  },
  "language_info": {
   "codemirror_mode": {
    "name": "ipython",
    "version": 3
   },
   "file_extension": ".py",
   "mimetype": "text/x-python",
   "name": "python",
   "nbconvert_exporter": "python",
   "pygments_lexer": "ipython3",
   "version": "3.9.13"
  }
 },
 "nbformat": 4,
 "nbformat_minor": 5
}
