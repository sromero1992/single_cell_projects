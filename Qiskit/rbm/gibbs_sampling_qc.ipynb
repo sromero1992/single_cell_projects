{
 "cells": [
  {
   "cell_type": "code",
   "execution_count": 7,
   "id": "ce18291a",
   "metadata": {},
   "outputs": [],
   "source": [
    "import numpy as np\n",
    "import pandas as pd\n",
    "import matplotlib.pyplot as plt\n",
    "from math import pi\n",
    "from numpy.linalg import norm\n",
    "from math import acos, sqrt\n",
    "\n",
    "def get_angle(v_in, mode) :\n",
    "    '''  This function obtains converts vector information \n",
    "         into angle for encrypting classical information to\n",
    "         quantum information style.\n",
    "         \n",
    "         INPUT: \n",
    "         mode  =======> 0 uses projection into |psi_0>| 1 uses exponential to convert it\n",
    "         v_in  =======> desired quantum state's (vector) angle\n",
    "         TODO:\n",
    "         v0_in =======> this can be tunned but meant to be |psi_0> (very initial quantum state/vector)\n",
    "         OUTPUT:\n",
    "         proj ========> array of projected quantum states in to reference quantum state \n",
    "                        ang = <psi_k | psi_0>/ ( norm(psi_k) * norm(psi_0) )\n",
    "                        in practice norm(psi_k) has to be 1 given that are in unit circle description\n",
    "    '''\n",
    "    \n",
    "    # Probability vector\n",
    "    v_in = np.squeeze( np.asarray(v_in) )\n",
    "    # \"Basis\" or vector to project \n",
    "    #v0_in= np.squeeze( np.asanyarray(v0_in))\n",
    "    # |0> state\n",
    "    v0 = np.array((1,0))\n",
    "    # |1> state \n",
    "    #v0 = np.array((0,1))\n",
    "    # |+> state \n",
    "    #v0 = np.array((1,1))/sqrt(2)\n",
    "    \n",
    "    vshape = v_in.shape\n",
    "    nq = vshape[0]\n",
    "   \n",
    "    proj = np.zeros(nq)\n",
    "    if mode == 0 :\n",
    "        # Angle projection into |v0> state\n",
    "        for iq in range(nq) :\n",
    "            proj[iq] = acos(np.dot( v_in[iq,:] , v0)) # project to |0> basis\n",
    "            \n",
    "    #elif mode == 1 : \n",
    "        # Angle defined in terms of exponents\n",
    "        \n",
    "        \n",
    "    elif mode == 3 :\n",
    "        for i in range(nq):\n",
    "            proj[iq] = pi/2\n",
    "\n",
    "    #else\n",
    "        # Not defined\n",
    "    \n",
    "    return proj"
   ]
  },
  {
   "cell_type": "code",
   "execution_count": 8,
   "id": "b34f72e6",
   "metadata": {},
   "outputs": [],
   "source": [
    "def get_statesNprobs(quantum_state, n, rho):\n",
    "    # This will write back binary string to \n",
    "    # hidden and visual states \n",
    "    # will provide the probabilities associated to the given states\n",
    "    \n",
    "    nq = sum(n) + n[0]*n[1]\n",
    "    \n",
    "    vis_state = np.zeros(n[0])\n",
    "    hid_state = np.zeros(n[1])\n",
    "    \n",
    "    # Obtaining the visual and hidden states \"binary\"\n",
    "    jq = -1\n",
    "    for iq in range(nq-1,-1,-1): \n",
    "        jq = jq + 1 \n",
    "        print(\"iq number :\", iq, quantum_state[iq])\n",
    "        if (iq > nq - n[0]) & (iq <= nq): \n",
    "            vis_state[jq] = int(quantum_state[iq])  \n",
    "    \n",
    "        elif (iq > nq -sum(n)) & (iq <= nq - n[0]):\n",
    "            hid_state[jq-n[0]] = int(quantum_state[iq])\n",
    "\n",
    "\n",
    "    # Probabilities of measuring only qubit-i in a given state\n",
    "    qprobs = np.zeros((nq,2))\n",
    "    cprobs = np.zeros((nq))\n",
    "    for iq in range(nq):\n",
    "        # Passing quantum state probabilities\n",
    "        qprobs[iq] = rho.probabilities([iq])\n",
    "        print('Qubit-{} probs: {}'.format(iq, qprobs[iq]))\n",
    "\n",
    "        if quantum_state[iq] == \"0\":\n",
    "            # Probably only assing the state one probability only?\n",
    "            # this is equivalent to <0|q_i> = qprob_i in state |0>\n",
    "            #cprobs[iq] = qprobs[iq,0]\n",
    "            cprobs[iq] = qprobs[iq,1]\n",
    "        else:\n",
    "            # this is equivalent to <1|q_i> = qprob_i in state |1>\n",
    "            cprobs[iq] = qprobs[iq,1]\n"
   ]
  },
  {
   "cell_type": "code",
   "execution_count": 9,
   "id": "a992a2cf",
   "metadata": {
    "scrolled": false
   },
   "outputs": [
    {
     "name": "stdout",
     "output_type": "stream",
     "text": [
      "{'00000100': 97, '00000110': 3, '01000110': 15, '00000000': 549, '00001000': 95, '11001110': 3, '00000010': 90, '00000001': 84, '00101001': 16, '00111101': 2, '00001100': 13, '00010101': 18, '10001010': 16, '00000011': 14, '10101011': 2, '00001001': 1, '00001010': 1, '00010111': 1, '00000101': 3, '10001110': 1}\n",
      "        ┌─────────┐                                                 ░ ┌─┐      »\n",
      "   q_0: ┤ Ry(π/4) ├─────■───────────■───────────────────────────────░─┤M├──────»\n",
      "        ├─────────┤     │           │                               ░ └╥┘┌─┐   »\n",
      "   q_1: ┤ Ry(π/4) ├─────┼───────────┼───────────■───────────■───────░──╫─┤M├───»\n",
      "        ├─────────┤     │           │           │           │       ░  ║ └╥┘┌─┐»\n",
      "   q_2: ┤ Ry(π/4) ├─────■───────────┼───────────■───────────┼───────░──╫──╫─┤M├»\n",
      "        ├─────────┤     │           │           │           │       ░  ║  ║ └╥┘»\n",
      "   q_3: ┤ Ry(π/4) ├─────┼───────────■───────────┼───────────■───────░──╫──╫──╫─»\n",
      "        └─────────┘┌────┴─────┐     │           │           │       ░  ║  ║  ║ »\n",
      "   q_4: ───────────┤ Ry(3π/4) ├─────┼───────────┼───────────┼───────░──╫──╫──╫─»\n",
      "                   └──────────┘┌────┴─────┐     │           │       ░  ║  ║  ║ »\n",
      "   q_5: ───────────────────────┤ Ry(3π/4) ├─────┼───────────┼───────░──╫──╫──╫─»\n",
      "                               └──────────┘┌────┴─────┐     │       ░  ║  ║  ║ »\n",
      "   q_6: ───────────────────────────────────┤ Ry(3π/4) ├─────┼───────░──╫──╫──╫─»\n",
      "                                           └──────────┘┌────┴─────┐ ░  ║  ║  ║ »\n",
      "   q_7: ───────────────────────────────────────────────┤ Ry(3π/4) ├─░──╫──╫──╫─»\n",
      "                                                       └──────────┘ ░  ║  ║  ║ »\n",
      "meas: 8/═══════════════════════════════════════════════════════════════╩══╩══╩═»\n",
      "                                                                       0  1  2 »\n",
      "«                       \n",
      "«   q_0: ───────────────\n",
      "«                       \n",
      "«   q_1: ───────────────\n",
      "«                       \n",
      "«   q_2: ───────────────\n",
      "«        ┌─┐            \n",
      "«   q_3: ┤M├────────────\n",
      "«        └╥┘┌─┐         \n",
      "«   q_4: ─╫─┤M├─────────\n",
      "«         ║ └╥┘┌─┐      \n",
      "«   q_5: ─╫──╫─┤M├──────\n",
      "«         ║  ║ └╥┘┌─┐   \n",
      "«   q_6: ─╫──╫──╫─┤M├───\n",
      "«         ║  ║  ║ └╥┘┌─┐\n",
      "«   q_7: ─╫──╫──╫──╫─┤M├\n",
      "«         ║  ║  ║  ║ └╥┘\n",
      "«meas: 8/═╩══╩══╩══╩══╩═\n",
      "«         3  4  5  6  7 \n"
     ]
    },
    {
     "data": {
      "image/png": "[encoded data removed]",
      "text/plain": [
       "<Figure size 700x500 with 1 Axes>"
      ]
     },
     "execution_count": 9,
     "metadata": {},
     "output_type": "execute_result"
    }
   ],
   "source": [
    "import qiskit\n",
    "from qiskit import Aer, execute, QuantumCircuit\n",
    "from qiskit_aer import AerSimulator\n",
    "from qiskit import transpile\n",
    "from qiskit.primitives import Sampler \n",
    "from qiskit.providers.fake_provider import FakeManilaV2\n",
    "from qiskit.visualization import plot_histogram, plot_state_city\n",
    "from qiskit.circuit import QuantumCircuit, ParameterVector\n",
    "from qiskit.circuit.library import RYGate\n",
    "import qiskit.quantum_info as qi\n",
    "from qiskit.quantum_info import Statevector, DensityMatrix\n",
    "\n",
    "\n",
    "\n",
    "#---------------------------------------------------------------------------\n",
    "# I want the best configuration, thus the peak of the probability distribution\n",
    "# then retrieve the probabilities according to that state \n",
    "# and provide states and probabilities\n",
    "#---------------------------------------------------------------------------\n",
    "\n",
    "# Number of shots for quantum simulation\n",
    "nshots = 1000\n",
    "\n",
    "n_vis = 2\n",
    "n_hid = 2\n",
    "# n(0) and n(1) contain the number of visual and hidden nodes\n",
    "n = [n_vis, n_hid] \n",
    "\n",
    "# Double the number of qubits for ancilla gates\n",
    "nq = sum(n) + n[0]*n[1]\n",
    "\n",
    "circ = qiskit.QuantumCircuit(nq)\n",
    "\n",
    "# Initial state of visual nodes\n",
    "avec = np.ones((n[0],2))/sqrt(2)\n",
    "ang = get_angle(avec,mode=0)\n",
    "for iq in range(n[0]) :\n",
    "    circ.ry(ang[iq],iq)\n",
    "    #circ.ry(0,iq)\n",
    "    \n",
    "# Initial state of hidden nodes\n",
    "bvec = np.ones((n[1],2))/sqrt(2)\n",
    "ang = get_angle(bvec,0)\n",
    "for iq in range(n[1]) :\n",
    "    circ.ry(ang[iq],n[0]+iq)\n",
    "    #circ.ry(0,n[0]+iq)    \n",
    "\n",
    "mq = sum(n) - 1\n",
    "for iq in range(n[0]) :\n",
    "    for jq in range(n[1]) :\n",
    "        \n",
    "        mq = mq + 1\n",
    "        ccry = RYGate(3*pi/4).control(2)\n",
    "        #ccry = RYGate(0).control(2)\n",
    "        # Controlling iq -> visual layer, jq -> hidden layer, mq -> worker qubit\n",
    "        circ.append(ccry, [iq, n[0]+jq, mq ])\n",
    "\n",
    "        \n",
    "rho = DensityMatrix(circ)\n",
    "\n",
    "# Probabilities for measuring only qubit-i\n",
    "qprobs = np.zeros((nq,2))\n",
    "for iq in range(nq):\n",
    "    qprobs[iq] = rho.probabilities([iq])\n",
    "    #print('Qubit-{} probs: {}'.format(iq, qprobs[iq]))\n",
    "\n",
    "circ.measure_all()\n",
    "\n",
    "# Run the quantum circuit on a statevector simulator backend\n",
    "#sim_mode = 'qasm_simulator'\n",
    "sim_mode = 'aer_simulator'\n",
    "\n",
    "simulator = Aer.get_backend(sim_mode)\n",
    "\n",
    "# Transpile reshapes the circuit to match quantum device topology (optimize circuit)\n",
    "#circ = transpile(circ, simulator)\n",
    "#result = simulator.run(circ,shots=nshots).result()\n",
    "#counts = result.get_counts(circ)\n",
    "\n",
    "result = execute(circ, simulator).result()\n",
    "counts = result.get_counts(circ)\n",
    "\n",
    "print(counts)\n",
    "\n",
    "# Access all the states and counts\n",
    "#count_keys=list(counts.keys())\n",
    "#ikey=count_keys[0]\n",
    "#counts.get(ikey)\n",
    "\n",
    "# Most frequent state and probability\n",
    "most_freq = counts.most_frequent()\n",
    "most_freq_prob = counts.get(most_freq)/nshots\n",
    "\n",
    "print(circ)\n",
    "plot_histogram(counts, title='Probability distribution')\n",
    "\n",
    "\n"
   ]
  },
  {
   "cell_type": "code",
   "execution_count": 123,
   "id": "c54e6675",
   "metadata": {},
   "outputs": [
    {
     "name": "stdout",
     "output_type": "stream",
     "text": [
      "[['00000100', 108], ['11011111', 1], ['00000000', 349], ['01000110', 23], ['00001000', 101], ['00001010', 2], ['01000111', 1], ['00000001', 128], ['00111101', 7], ['01001110', 3], ['00001100', 26], ['11001110', 6], ['00000010', 116], ['00010101', 29], ['10101011', 11], ['10001010', 24], ['00101001', 29], ['11111111', 1], ['00000110', 5], ['00000011', 27], ['00001001', 7], ['00010111', 2], ['00001101', 1], ['01010111', 9], ['00000101', 4], ['10001011', 1], ['00011101', 2], ['10001110', 1]]\n"
     ]
    },
    {
     "data": {
      "text/plain": [
       "349"
      ]
     },
     "execution_count": 123,
     "metadata": {},
     "output_type": "execute_result"
    }
   ],
   "source": [
    "count_keys=list(counts.keys())\n",
    "msize = len(count_keys)\n",
    "res = []\n",
    "k = 0\n",
    "for istr in count_keys:\n",
    "    res.append( [istr, counts.get(istr) ] )\n",
    "    k += 1\n",
    "\n",
    "print(res)\n",
    "#res.sort()\n",
    "\n",
    "\n",
    "res = sorted(res,key=lambda x: x[1],reverse=True)\n",
    "res[0][1]"
   ]
  },
  {
   "cell_type": "code",
   "execution_count": 92,
   "id": "75cce214",
   "metadata": {},
   "outputs": [
    {
     "name": "stdout",
     "output_type": "stream",
     "text": [
      "shape of array : (2, 2)\n"
     ]
    },
    {
     "data": {
      "text/plain": [
       "[0.7853981633974484, 0.7853981633974484]"
      ]
     },
     "execution_count": 92,
     "metadata": {},
     "output_type": "execute_result"
    }
   ],
   "source": [
    "\n",
    "array = np.array([ [1, 0], [1,0]])\n",
    "v0 = np.ones(2)\n",
    "v0 = v0/norm(v0)\n",
    "v1 = np.array([ [1/sqrt(2),1/sqrt(2),0,0],[-1/sqrt(2),-1/sqrt(2),0,0] ])\n",
    "#val = get_angle(v1,v0,0)\n",
    "val = get_angle(array,v0,0)\n",
    "val"
   ]
  },
  {
   "cell_type": "code",
   "execution_count": 3,
   "id": "ab63c4c6",
   "metadata": {},
   "outputs": [
    {
     "data": {
      "text/html": [
       "<pre style=\"word-wrap: normal;white-space: pre;background: #fff0;line-height: 1.1;font-family: &quot;Courier New&quot;,Courier,monospace\">                                         \n",
       "q7_0: ──────────────■─────────────────■──\n",
       "                    │                 │  \n",
       "q7_1: ──────────────■─────────────────■──\n",
       "      ┌──────────┐┌─┴─┐┌───────────┐┌─┴─┐\n",
       "q7_2: ┤ Ry(0.06) ├┤ X ├┤ Ry(-0.06) ├┤ X ├\n",
       "      └──────────┘└───┘└───────────┘└───┘</pre>"
      ],
      "text/plain": [
       "                                         \n",
       "q7_0: ──────────────■─────────────────■──\n",
       "                    │                 │  \n",
       "q7_1: ──────────────■─────────────────■──\n",
       "      ┌──────────┐┌─┴─┐┌───────────┐┌─┴─┐\n",
       "q7_2: ┤ Ry(0.06) ├┤ X ├┤ Ry(-0.06) ├┤ X ├\n",
       "      └──────────┘└───┘└───────────┘└───┘"
      ]
     },
     "execution_count": 3,
     "metadata": {},
     "output_type": "execute_result"
    }
   ],
   "source": [
    "from qiskit import QuantumCircuit, QuantumRegister\n",
    "qr = QuantumRegister(3)\n",
    "control_qubits = qr[:2]\n",
    "target_qubit = qr[2]\n",
    "circuit = QuantumCircuit(qr)\n",
    "circuit.mcry(0.12, control_qubits, target_qubit)\n",
    "circuit.draw()"
   ]
  },
  {
   "cell_type": "code",
   "execution_count": null,
   "id": "a4de6223",
   "metadata": {},
   "outputs": [],
   "source": []
  }
 ],
 "metadata": {
  "kernelspec": {
   "display_name": "Python 3 (ipykernel)",
   "language": "python",
   "name": "python3"
  },
  "language_info": {
   "codemirror_mode": {
    "name": "ipython",
    "version": 3
   },
   "file_extension": ".py",
   "mimetype": "text/x-python",
   "name": "python",
   "nbconvert_exporter": "python",
   "pygments_lexer": "ipython3",
   "version": "3.9.13"
  }
 },
 "nbformat": 4,
 "nbformat_minor": 5
}
