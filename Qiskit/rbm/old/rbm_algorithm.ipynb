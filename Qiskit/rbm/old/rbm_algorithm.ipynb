{
 "cells": [
  {
   "cell_type": "code",
   "execution_count": 1,
   "id": "1354fea0",
   "metadata": {},
   "outputs": [
    {
     "name": "stdout",
     "output_type": "stream",
     "text": [
      "W final learn : [[ 14.94283679  -0.40429405]\n",
      " [  0.2763981  -15.09994216]]\n",
      "Vis_bias final learn : [-7.37829198  7.09225413]\n",
      "Hid_bias final learn : [-7.1408988   7.39386893]\n",
      "Generated Samples:\n",
      "[[1. 1.]\n",
      " [0. 0.]\n",
      " [1. 1.]\n",
      " [1. 1.]\n",
      " [1. 1.]\n",
      " [0. 0.]\n",
      " [1. 1.]\n",
      " [1. 1.]\n",
      " [1. 0.]\n",
      " [1. 1.]]\n"
     ]
    }
   ],
   "source": [
    "import numpy as np\n",
    "\n",
    "# Define the RBM class\n",
    "class RBM:\n",
    "    def __init__(self, num_visible, num_hidden):\n",
    "        self.num_visible = num_visible\n",
    "        self.num_hidden = num_hidden\n",
    "        self.learning_rate = 0.1\n",
    "\n",
    "        # Initialize weights and biases\n",
    "        self.weights = np.random.normal(0, 0.1, (num_visible, num_hidden))\n",
    "        self.visible_bias = np.zeros(num_visible)\n",
    "        self.hidden_bias = np.zeros(num_hidden)\n",
    "\n",
    "    def sigmoid(self, x):\n",
    "        return 1 / (1 + np.exp(-x))\n",
    "\n",
    "    def gibbs_sampling(self, visible_prob):\n",
    "        hidden_prob = self.sigmoid(np.dot(visible_prob, self.weights) + self.hidden_bias)\n",
    "        hidden_states = np.random.rand(self.num_hidden) < hidden_prob\n",
    "        visible_prob_reconstructed = self.sigmoid(np.dot(hidden_states, self.weights.T) + self.visible_bias)\n",
    "        return hidden_prob, hidden_states, visible_prob_reconstructed\n",
    "\n",
    "    def train(self, data, num_epochs=100):\n",
    "        for epoch in range(num_epochs):\n",
    "            for v0 in data:\n",
    "                # Positive phase\n",
    "                hidden_prob0, hidden_states0, visible_prob1 = self.gibbs_sampling(v0)\n",
    "\n",
    "                # Negative phase\n",
    "                hidden_prob1, hidden_states1, visible_prob2 = self.gibbs_sampling(visible_prob1)\n",
    "\n",
    "                self.weights += self.learning_rate * (np.outer(v0, hidden_prob0) - np.outer(visible_prob1, hidden_prob1))\n",
    "                self.visible_bias += self.learning_rate * (v0 - visible_prob1)\n",
    "                self.hidden_bias += self.learning_rate * (hidden_prob0 - hidden_prob1)\n",
    "                #print(\"W after learn : \" + str(self.weights) )\n",
    "                #print(\"Vis_bias after learn : \" + str(self.visible_bias) )\n",
    "                #print(\"Hid_bias after learn : \" + str(self.hidden_bias) )\n",
    "\n",
    "    def generate_samples(self, num_samples):\n",
    "        samples = np.zeros((num_samples, self.num_visible))\n",
    "        for i in range(num_samples):\n",
    "            visible_prob = np.random.rand(self.num_visible)\n",
    "            for _ in range(1000):  # Gibbs sampling to reach equilibrium\n",
    "                _, _, visible_prob = self.gibbs_sampling(visible_prob)\n",
    "            samples[i] = visible_prob\n",
    "        return samples\n",
    "\n",
    "# Generate synthetic binary data\n",
    "num_samples = 1000\n",
    "num_visible = 2\n",
    "data = np.random.randint(2, size=(num_samples, num_visible))\n",
    "\n",
    "# Create and train the RBM\n",
    "rbm = RBM(num_visible, num_hidden=2)\n",
    "rbm.train(data, num_epochs=100)\n",
    "print(\"W final learn : \" + str(rbm.weights) )\n",
    "print(\"Vis_bias final learn : \" + str(rbm.visible_bias) )\n",
    "print(\"Hid_bias final learn : \" + str(rbm.hidden_bias) )\n",
    "            \n",
    "# Generate new samples using the trained RBM\n",
    "generated_samples = rbm.generate_samples(num_samples=10)\n",
    "print(\"Generated Samples:\")\n",
    "print(np.round(generated_samples))\n"
   ]
  },
  {
   "cell_type": "code",
   "execution_count": null,
   "id": "9312938b",
   "metadata": {},
   "outputs": [],
   "source": []
  }
 ],
 "metadata": {
  "kernelspec": {
   "display_name": "Python 3 (ipykernel)",
   "language": "python",
   "name": "python3"
  },
  "language_info": {
   "codemirror_mode": {
    "name": "ipython",
    "version": 3
   },
   "file_extension": ".py",
   "mimetype": "text/x-python",
   "name": "python",
   "nbconvert_exporter": "python",
   "pygments_lexer": "ipython3",
   "version": "3.9.13"
  }
 },
 "nbformat": 4,
 "nbformat_minor": 5
}
