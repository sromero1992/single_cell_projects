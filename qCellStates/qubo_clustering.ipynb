{
 "cells": [
  {
   "cell_type": "code",
   "execution_count": 1,
   "id": "df9ba6ce-d393-47fa-83d3-15fb2c91defa",
   "metadata": {},
   "outputs": [],
   "source": [
    "# import necessary packages\n",
    "\n",
    "import numpy as np\n",
    "from pyqubo import Array, Constraint\n",
    "import dimod\n",
    "from dimod import ExactSolver\n",
    "from dwave.samplers import SimulatedAnnealingSampler"
   ]
  },
  {
   "cell_type": "code",
   "execution_count": 2,
   "id": "25d956d7-75b3-42ee-b8fc-e3f9dfc4f2d8",
   "metadata": {},
   "outputs": [],
   "source": [
    "# Create a synthetic dataset for clustering\n",
    "np.random.seed(42)\n",
    "data = np.array([\n",
    "    [1, 2], [2, 3], [3, 4],  # Cluster 1\n",
    "    [10, 10], [11, 11], [12, 12],  # Cluster 2\n",
    "    [25, 30], [24, 28], [30, 25]  # Cluster 3\n",
    "])"
   ]
  },
  {
   "cell_type": "code",
   "execution_count": 3,
   "id": "e52b2ecc-0bf1-468f-9e4d-ff617c4c0826",
   "metadata": {},
   "outputs": [],
   "source": [
    "# Number of data points and clusters\n",
    "num_points = len(data)\n",
    "num_clusters = 3"
   ]
  },
  {
   "cell_type": "code",
   "execution_count": 4,
   "id": "59f0a9d7-0f3a-4d27-bc70-4a36a42aca16",
   "metadata": {},
   "outputs": [],
   "source": [
    "# Define binary variables for each point-cluster assignment\n",
    "x = Array.create('x', shape=(num_points, num_clusters), vartype='BINARY')"
   ]
  },
  {
   "cell_type": "code",
   "execution_count": 5,
   "id": "44bbb091-3e39-4472-aa4b-b5470fca3b4f",
   "metadata": {},
   "outputs": [],
   "source": [
    "# Objective function: Minimize the number of clusters used\n",
    "objective = -sum(sum(x[i, j] for j in range(num_clusters)) for i in range(num_points))"
   ]
  },
  {
   "cell_type": "code",
   "execution_count": 6,
   "id": "e51644fe-c32e-4eb1-8605-da879368df3b",
   "metadata": {},
   "outputs": [],
   "source": [
    "# Constraint 1: Each point must be assigned to exactly one cluster\n",
    "constraints = []\n",
    "for i in range(num_points):\n",
    "    constraints.append(Constraint((sum(x[i, j] for j in range(num_clusters)) - 1) ** 2, label=f'one_cluster_{i}'))"
   ]
  },
  {
   "cell_type": "code",
   "execution_count": 7,
   "id": "a36e6aa9-0b84-4c6b-9fdb-16db2c8e5da7",
   "metadata": {},
   "outputs": [],
   "source": [
    "# Constraint 2: Add distance terms to encourage clustering based on proximity\n",
    "for i in range(num_points):\n",
    "    for j in range(num_points):\n",
    "        if i != j:\n",
    "            dist = np.linalg.norm(data[i] - data[j])\n",
    "            for k in range(num_clusters):\n",
    "                objective += dist * x[i, k] * x[j, k]"
   ]
  },
  {
   "cell_type": "code",
   "execution_count": 8,
   "id": "5fda78b2-bf4c-4342-ac79-3a6ccd107f23",
   "metadata": {},
   "outputs": [],
   "source": [
    "# Combine objective and constraints\n",
    "model = objective + sum(constraints)"
   ]
  },
  {
   "cell_type": "code",
   "execution_count": 9,
   "id": "5a521a92-1378-4a78-b602-cea9993d002a",
   "metadata": {},
   "outputs": [],
   "source": [
    "# Compile the model to a Binary Quadratic Model (BQM)\n",
    "bqm = model.compile().to_bqm()"
   ]
  },
  {
   "cell_type": "code",
   "execution_count": 10,
   "id": "62744065-44ab-452e-b7c2-31a1d0482ff3",
   "metadata": {},
   "outputs": [],
   "source": [
    "# Use a simulated annealing solver to find the solution\n",
    "sampler = SimulatedAnnealingSampler()\n",
    "response = sampler.sample(bqm)"
   ]
  },
  {
   "cell_type": "code",
   "execution_count": 11,
   "id": "f7db5f5a-077d-4c31-8c21-d659d1fea787",
   "metadata": {},
   "outputs": [],
   "source": [
    "# Get the best solution\n",
    "best_solution = response.first.sample"
   ]
  },
  {
   "cell_type": "code",
   "execution_count": 12,
   "id": "794d936b-6122-498f-bd26-ae97f381ca88",
   "metadata": {},
   "outputs": [],
   "source": [
    "# Print cluster assignments\n",
    "clusters = [[] for _ in range(num_clusters)]\n",
    "for i in range(num_points):\n",
    "    for j in range(num_clusters):\n",
    "        if best_solution[f'x[{i}][{j}]'] == 1:\n",
    "            clusters[j].append(i)"
   ]
  },
  {
   "cell_type": "code",
   "execution_count": 13,
   "id": "9a749079-c8e9-403a-8edd-7d409bccb1b9",
   "metadata": {},
   "outputs": [
    {
     "name": "stdout",
     "output_type": "stream",
     "text": [
      "Cluster 1: [array([2, 3])]\n",
      "Cluster 2: [array([10, 10])]\n",
      "Cluster 3: [array([1, 2])]\n"
     ]
    }
   ],
   "source": [
    "for idx, cluster in enumerate(clusters):\n",
    "    print(f\"Cluster {idx + 1}: {[data[i] for i in cluster]}\")"
   ]
  },
  {
   "cell_type": "code",
   "execution_count": null,
   "id": "e23404d7-4906-49c9-82fb-76eb63119075",
   "metadata": {},
   "outputs": [],
   "source": []
  }
 ],
 "metadata": {
  "kernelspec": {
   "display_name": "perception",
   "language": "python",
   "name": "perception"
  },
  "language_info": {
   "codemirror_mode": {
    "name": "ipython",
    "version": 3
   },
   "file_extension": ".py",
   "mimetype": "text/x-python",
   "name": "python",
   "nbconvert_exporter": "python",
   "pygments_lexer": "ipython3",
   "version": "3.12.7"
  }
 },
 "nbformat": 4,
 "nbformat_minor": 5
}
